{
  "nbformat": 4,
  "nbformat_minor": 0,
  "metadata": {
    "colab": {
      "name": "TensorRT Model Optimisation.ipynb",
      "provenance": [],
      "private_outputs": true,
      "mount_file_id": "1oLNEXmUino08SByanIpRKmB6JZc5Jq2M",
      "authorship_tag": "ABX9TyOtAIQu45pc+mR0uHVRMkJf",
      "include_colab_link": true
    },
    "kernelspec": {
      "name": "python3",
      "display_name": "Python 3"
    },
    "accelerator": "GPU"
  },
  "cells": [
    {
      "cell_type": "markdown",
      "metadata": {
        "id": "view-in-github",
        "colab_type": "text"
      },
      "source": [
        "<a href=\"https://colab.research.google.com/github/AmitYadav1995/Deep_Learning/blob/master/TensorRT_Model_Optimisation.ipynb\" target=\"_parent\"><img src=\"https://colab.research.google.com/assets/colab-badge.svg\" alt=\"Open In Colab\"/></a>"
      ]
    },
    {
      "cell_type": "markdown",
      "metadata": {
        "id": "PBcwW9sgXVcc",
        "colab_type": "text"
      },
      "source": [
        "\n",
        "Convert Keras model to Tensorflow model\n",
        "\n",
        "Note : It will in Tensorflow 1.5"
      ]
    },
    {
      "cell_type": "code",
      "metadata": {
        "id": "8cfG0OpyTB8z",
        "colab_type": "code",
        "colab": {}
      },
      "source": [
        "\"\"\"\n",
        "Note : I already have the .h5 file saved in my directory.\n",
        "\n",
        "Import the Libraries\n",
        "\n",
        "\"\"\"\n",
        "\n",
        "import tensorflow as tf\n",
        "\n",
        "\"\"\"\n",
        "Use this line of code only if you have batch normalisation in your keras model architecture. Now Why am I using it so\n",
        "\n",
        "I do not want to put the penalty on gradients again\n",
        "\n",
        "\"\"\"\n",
        "tf.keras.backend.set_learning_phase(0) \n",
        "from tensorflow.keras.models import load_model\n",
        "\"\"\"\n",
        "This is the Path I want to save my converted Tensorflow Model\n",
        "\"\"\"\n",
        "\n",
        "Tensorflow_Model_Path = \"/content/drive/My Drive/SelfPractise/TensorRT Optimisation\"\n",
        "\n",
        "\"\"\"\n",
        "Loading the keras model (.h5 file)\n",
        "\n",
        "\"\"\" \n",
        "Keras_Model = load_model(\"/content/drive/My Drive/SelfPractise/TensorRT Optimisation/modelLeNet5.h5\")\n",
        "\n",
        "\n",
        "\"\"\"\n",
        "Saver is same for Keras and Tensorflow hence using it for conversion\n",
        "\"\"\"\n",
        "saver = tf.train.Saver()\n",
        "sess = tf.keras.backend.get_session()\n",
        "save_path = saver.save(sess, Tensorflow_Model_Path)\n",
        "\n",
        "print(\"Your new tensorflow model has been saved in the directory \"+ Tensorflow_Model_Path)"
      ],
      "execution_count": null,
      "outputs": []
    }
  ]
}