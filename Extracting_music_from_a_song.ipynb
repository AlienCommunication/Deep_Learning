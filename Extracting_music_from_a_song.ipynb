{
  "nbformat": 4,
  "nbformat_minor": 0,
  "metadata": {
    "colab": {
      "name": "Extracting music from a song.ipynb",
      "provenance": [],
      "private_outputs": true,
      "collapsed_sections": [],
      "toc_visible": true
    },
    "kernelspec": {
      "name": "python3",
      "display_name": "Python 3"
    }
  },
  "cells": [
    {
      "cell_type": "markdown",
      "metadata": {
        "id": "Cp9zenLO_6yO",
        "colab_type": "text"
      },
      "source": [
        "<figure class=\"image\">\n",
        "  <img src=\"https://sigsep.github.io/assets/img/musheader.41c6bf29.png\" alt=\"Dataset illustration\">\n",
        "  <figcaption>Source: MUSDB18 dataset home page (Link in course resources)</figcaption>\n",
        "</figure>"
      ]
    },
    {
      "cell_type": "code",
      "metadata": {
        "id": "PDxasY8o_-Mz",
        "colab_type": "code",
        "colab": {}
      },
      "source": [
        "\"\"\" Installing dependencies for the project \"\"\"\n",
        "\n",
        "\n",
        "\"\"\" A complete, cross-platform solution to record, convert and stream audio and video\"\"\"\n",
        "\n",
        "!apt install ffmpeg \n",
        "\n",
        "\"\"\" LibROSA is a python package for music and audio analysis.\"\"\"\n",
        "\n",
        "!pip install librosa \n",
        "\n",
        "\"\"\" Helper library to download any youtoube video to MP3/WAV format \"\"\"\n",
        "\n",
        "!pip install youtube-dl "
      ],
      "execution_count": null,
      "outputs": []
    },
    {
      "cell_type": "code",
      "metadata": {
        "id": "9M2bGoZf_-ap",
        "colab_type": "code",
        "colab": {}
      },
      "source": [
        "\"\"\"  Library that splits audio to multiple channels \"\"\"\n",
        "!pip install spleeter"
      ],
      "execution_count": null,
      "outputs": []
    },
    {
      "cell_type": "code",
      "metadata": {
        "id": "z9ctm1x4_-dd",
        "colab_type": "code",
        "colab": {}
      },
      "source": [
        "import librosa\n",
        "import youtube_dl\n",
        "\n",
        "# Jupyter Notebook visualization functions\n",
        "from IPython.display import Audio, display\n",
        "from IPython.display import HTML"
      ],
      "execution_count": null,
      "outputs": []
    },
    {
      "cell_type": "markdown",
      "metadata": {
        "id": "FxRqNkuxBMTc",
        "colab_type": "text"
      },
      "source": [
        "### Let's download the video from YouTube "
      ]
    },
    {
      "cell_type": "code",
      "metadata": {
        "id": "FxYr1xwDBFXu",
        "colab_type": "code",
        "colab": {}
      },
      "source": [
        "url = \"K9w6UBZOn5o\" #@param {type:\"string\"}\n",
        "\n",
        "embed_url = \"https://www.youtube-nocookie.com/embed/%s?rel=0&amp;controls=0&amp;showinfo=0\" % (url)\n",
        "HTML('<iframe width=\"560\" height=\"315\" src=' + embed_url + 'frameborder=\"0\" allowfullscreen></iframe>')"
      ],
      "execution_count": null,
      "outputs": []
    },
    {
      "cell_type": "code",
      "metadata": {
        "id": "-av2bw-5D7ja",
        "colab_type": "code",
        "colab": {}
      },
      "source": [
        "ydl_opts = {\n",
        "    \"\"\" Format defines the quality of the output file\n",
        "    outtmpl : This supports the output name of the file and YOU can choose your extension either mp3 or .wav as per your choice\"\"\"\n",
        "\n",
        "    'format': 'bestaudio/best',\n",
        "    'outtmpl': 'Extract_Music.wav'\n",
        "}\n",
        "\"\"\" Here I will start my YouTube Downloaded function \"\"\"\n",
        "\n",
        "with youtube_dl.YoutubeDL(ydl_opts) as ydl:\n",
        "    info = ydl.extract_info(url, download=False)\n",
        "    status = ydl.download([url])"
      ],
      "execution_count": null,
      "outputs": []
    },
    {
      "cell_type": "code",
      "metadata": {
        "id": "UyGw2O3WJBJo",
        "colab_type": "code",
        "colab": {}
      },
      "source": [
        "\"\"\" Now We have the songs but Wait, Still we do not have the audio here in the memory hence will load it now\"\"\"\n",
        "\n",
        "audio, rate = librosa.load('/content/Extract_Music.wav', sr=44100, mono=False)"
      ],
      "execution_count": null,
      "outputs": []
    },
    {
      "cell_type": "code",
      "metadata": {
        "id": "1F0XT1P5JBUT",
        "colab_type": "code",
        "colab": {}
      },
      "source": [
        "\"\"\" Here 0 to 40 represents the seconds of our song\"\"\"\n",
        "\n",
        "display(Audio(audio[:, 0*rate:40*rate], rate=rate))"
      ],
      "execution_count": null,
      "outputs": []
    },
    {
      "cell_type": "code",
      "metadata": {
        "id": "yterUQZzJBYY",
        "colab_type": "code",
        "colab": {}
      },
      "source": [
        "audio.shape"
      ],
      "execution_count": null,
      "outputs": []
    },
    {
      "cell_type": "code",
      "metadata": {
        "id": "a6bOZjFvJldL",
        "colab_type": "code",
        "colab": {}
      },
      "source": [
        "audio\n"
      ],
      "execution_count": null,
      "outputs": []
    },
    {
      "cell_type": "markdown",
      "metadata": {
        "id": "OZMNvEJtP7QF",
        "colab_type": "text"
      },
      "source": [
        "UNet Model's architecture was basically for Image segementation purpose but They twiked it to make it work for audio data"
      ]
    },
    {
      "cell_type": "markdown",
      "metadata": {
        "id": "O2xpddZRPnO9",
        "colab_type": "text"
      },
      "source": [
        "[U Net Model Research Paper Link ](https://arxiv.org/pdf/1505.04597.pdf)"
      ]
    },
    {
      "cell_type": "code",
      "metadata": {
        "id": "abeYOKBcJllG",
        "colab_type": "code",
        "colab": {}
      },
      "source": [
        "\"\"\" Splitting the song to separate the channels using spleeter library \"\"\"\n",
        "\n",
        "!spleeter separate -h"
      ],
      "execution_count": null,
      "outputs": []
    },
    {
      "cell_type": "code",
      "metadata": {
        "id": "GUOo3YcIJ03O",
        "colab_type": "code",
        "colab": {}
      },
      "source": [
        "!spleeter separate -i /content/Extract_Music.wav -p spleeter:4stems -o output"
      ],
      "execution_count": null,
      "outputs": []
    },
    {
      "cell_type": "code",
      "metadata": {
        "id": "xVcOUM15J08o",
        "colab_type": "code",
        "colab": {}
      },
      "source": [
        ""
      ],
      "execution_count": null,
      "outputs": []
    }
  ]
}