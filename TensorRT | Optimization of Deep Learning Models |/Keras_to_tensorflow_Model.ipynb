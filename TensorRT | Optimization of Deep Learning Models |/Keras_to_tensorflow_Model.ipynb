{
 "cells": [
  {
   "cell_type": "code",
   "execution_count": 1,
   "metadata": {},
   "outputs": [],
   "source": [
    "import tensorflow as tf"
   ]
  },
  {
   "cell_type": "code",
   "execution_count": 8,
   "metadata": {},
   "outputs": [
    {
     "name": "stdout",
     "output_type": "stream",
     "text": [
      "Your new tensorflow model has been saved in the directory ./Models\n"
     ]
    }
   ],
   "source": [
    "\"\"\"\n",
    "Note : I already have the .h5 file saved in my directory.\n",
    "\n",
    "Import the Libraries\n",
    "\n",
    "\"\"\"\n",
    "\n",
    "import tensorflow as tf\n",
    "\n",
    "\"\"\"\n",
    "Use this line of code only if you have batch normalisation in your keras model architecture. Now Why am I using it so\n",
    "\n",
    "I do not want to put the penalty on gradients again\n",
    "\n",
    "\"\"\"\n",
    "tf.keras.backend.set_learning_phase(0) \n",
    "from tensorflow.keras.models import load_model\n",
    "\"\"\"\n",
    "This is the Path I want to save my converted Tensorflow Model\n",
    "\"\"\"\n",
    "\n",
    "Tensorflow_Model_Path = \"./Models\"\n",
    "\n",
    "\"\"\"\n",
    "Loading the keras model (.h5 file)\n",
    "\n",
    "\"\"\" \n",
    "Keras_Model = load_model(\"./Models/modelLeNet5.h5\")\n",
    "\n",
    "\n",
    "\"\"\"\n",
    "Saver is same for Keras and Tensorflow hence using it for conversion\n",
    "\"\"\"\n",
    "saver = tf.train.Saver()\n",
    "sess = tf.keras.backend.get_session()\n",
    "save_path = saver.save(sess, Tensorflow_Model_Path)\n",
    "\n",
    "print(\"Your new tensorflow model has been saved in the directory \"+ Tensorflow_Model_Path)"
   ]
  },
  {
   "cell_type": "code",
   "execution_count": null,
   "metadata": {},
   "outputs": [],
   "source": []
  }
 ],
 "metadata": {
  "kernelspec": {
   "display_name": "Python 3",
   "language": "python",
   "name": "python3"
  },
  "language_info": {
   "codemirror_mode": {
    "name": "ipython",
    "version": 3
   },
   "file_extension": ".py",
   "mimetype": "text/x-python",
   "name": "python",
   "nbconvert_exporter": "python",
   "pygments_lexer": "ipython3",
   "version": "3.7.3"
  }
 },
 "nbformat": 4,
 "nbformat_minor": 2
}
