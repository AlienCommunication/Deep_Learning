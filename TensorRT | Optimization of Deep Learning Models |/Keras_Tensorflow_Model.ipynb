{
  "nbformat": 4,
  "nbformat_minor": 0,
  "metadata": {
    "colab": {
      "name": "Keras_Tensorflow_Model.ipynb",
      "provenance": [],
      "private_outputs": true
    },
    "kernelspec": {
      "name": "python3",
      "display_name": "Python 3"
    },
    "accelerator": "GPU"
  },
  "cells": [
    {
      "cell_type": "markdown",
      "metadata": {
        "id": "PBcwW9sgXVcc",
        "colab_type": "text"
      },
      "source": [
        "\n",
        "Convert Keras model to Tensorflow model\n",
        "\n",
        "Note : It will in Tensorflow 1.5"
      ]
    },
    {
      "cell_type": "code",
      "metadata": {
        "id": "HjTe4A7FtSwD",
        "colab_type": "code",
        "colab": {}
      },
      "source": [
        "pip install tensorflow==1.13.2"
      ],
      "execution_count": null,
      "outputs": []
    },
    {
      "cell_type": "code",
      "metadata": {
        "id": "8cfG0OpyTB8z",
        "colab_type": "code",
        "colab": {}
      },
      "source": [
        "\"\"\"\n",
        "Note : I already have the .h5 file saved in my directory.\n",
        "\n",
        "Import the Libraries\n",
        "\n",
        "\"\"\"\n",
        "\n",
        "import tensorflow as tf\n",
        "\n",
        "\"\"\"\n",
        "Use this line of code only if you have batch normalisation in your keras model architecture. Now Why am I using it so\n",
        "\n",
        "I do not want to put the penalty on gradients again\n",
        "\n",
        "\"\"\"\n",
        "tf.keras.backend.set_learning_phase(0) \n",
        "from tensorflow.keras.models import load_model\n",
        "\"\"\"\n",
        "This is the Path I want to save my converted Tensorflow Model\n",
        "\"\"\"\n",
        "\n",
        "Tensorflow_Model_Path = \"/content/drive/My Drive/SelfPractise/TensorRT_Optimisation\"\n",
        "\n",
        "\"\"\"\n",
        "Loading the keras model (.h5 file)\n",
        "\n",
        "\"\"\" \n",
        "Keras_Model = load_model(\"/content/drive/My Drive/SelfPractise/TensorRT_Optimisation/modelLeNet5.h5\")\n",
        "\n",
        "\n",
        "\"\"\"\n",
        "Saver is same for Keras and Tensorflow hence using it for conversion\n",
        "\"\"\"\n",
        "saver = tf.train.Saver()\n",
        "sess = tf.keras.backend.get_session()\n",
        "save_path = saver.save(sess, Tensorflow_Model_Path)\n",
        "\n",
        "print(\"Your new tensorflow model has been saved in the directory \"+ Tensorflow_Model_Path)"
      ],
      "execution_count": null,
      "outputs": []
    },
    {
      "cell_type": "code",
      "metadata": {
        "id": "S7hzRrtutG3V",
        "colab_type": "code",
        "colab": {}
      },
      "source": [
        ""
      ],
      "execution_count": null,
      "outputs": []
    },
    {
      "cell_type": "code",
      "metadata": {
        "id": "P0gHVlRAtQsO",
        "colab_type": "code",
        "colab": {}
      },
      "source": [
        ""
      ],
      "execution_count": null,
      "outputs": []
    }
  ]
}